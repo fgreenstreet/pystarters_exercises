{
 "cells": [
  {
   "cell_type": "markdown",
   "metadata": {},
   "source": [
    "# The need for functions\n"
   ]
  },
  {
   "cell_type": "markdown",
   "metadata": {},
   "source": [
    "This code will take a set of observations and find the mean, median, variance and standard deviation of data set 1"
   ]
  },
  {
   "cell_type": "code",
   "execution_count": null,
   "metadata": {
    "collapsed": true
   },
   "outputs": [],
   "source": [
    "import statistics\n",
    "data1 = [1, 45, 67, 8, 99.2, 60, 3.2, 12]\n",
    "mean_data = statistics.mean(data1)\n",
    "med_data = statistics.median(data1)\n",
    "var_data = statistics.variance(data1)\n",
    "std_data = statistics.stdev(data1)\n",
    "\n",
    "data2 = [56, 78, 55, 12, 1.3, 99.6, 200.5]\n",
    "data3 = [1, 1, 1, 5, 77, 1.2, 4, 2.6]"
   ]
  },
  {
   "cell_type": "markdown",
   "metadata": {},
   "source": [
    "1) Find the mean, median, variance and standard deviation of data sets 2 and 3.\n",
    "\n",
    "2) If you didn't use a function to do this, attempt it using a function. How many lines of code did you save?"
   ]
  },
  {
   "cell_type": "markdown",
   "metadata": {},
   "source": [
    "# Procedures vs functions "
   ]
  },
  {
   "cell_type": "markdown",
   "metadata": {},
   "source": [
    "4) Edit the code below so that things_to_print is returned by the function and assign the returned value to a variable."
   ]
  },
  {
   "cell_type": "code",
   "execution_count": null,
   "metadata": {
    "collapsed": true
   },
   "outputs": [],
   "source": [
    "def i_print_things(things_to_print):\n",
    "    print(things_to_print)\n",
    "    \n",
    "print_job = 'This is a silly example function'\n",
    "i_print_things(print_job)"
   ]
  },
  {
   "cell_type": "markdown",
   "metadata": {},
   "source": [
    "5) Write a function that will take two input strings and returns them joined together as one string"
   ]
  },
  {
   "cell_type": "markdown",
   "metadata": {},
   "source": [
    "# Scope (local vs global variables)"
   ]
  },
  {
   "cell_type": "markdown",
   "metadata": {},
   "source": [
    "6) Why does the following code produce an error? Edit the code so that it prints the correct value for data_mean."
   ]
  },
  {
   "cell_type": "code",
   "execution_count": 1,
   "metadata": {},
   "outputs": [
    {
     "ename": "NameError",
     "evalue": "name 'data_mean' is not defined",
     "output_type": "error",
     "traceback": [
      "\u001b[1;31m---------------------------------------------------------------------------\u001b[0m",
      "\u001b[1;31mNameError\u001b[0m                                 Traceback (most recent call last)",
      "\u001b[1;32m<ipython-input-1-08a75d46e437>\u001b[0m in \u001b[0;36m<module>\u001b[1;34m()\u001b[0m\n\u001b[0;32m      4\u001b[0m \u001b[0mdata1\u001b[0m \u001b[1;33m=\u001b[0m \u001b[1;33m[\u001b[0m\u001b[1;36m1\u001b[0m\u001b[1;33m,\u001b[0m \u001b[1;36m45\u001b[0m\u001b[1;33m,\u001b[0m \u001b[1;36m67\u001b[0m\u001b[1;33m,\u001b[0m \u001b[1;36m8\u001b[0m\u001b[1;33m,\u001b[0m \u001b[1;36m99.2\u001b[0m\u001b[1;33m,\u001b[0m \u001b[1;36m60\u001b[0m\u001b[1;33m,\u001b[0m \u001b[1;36m3.2\u001b[0m\u001b[1;33m,\u001b[0m \u001b[1;36m12\u001b[0m\u001b[1;33m]\u001b[0m\u001b[1;33m\u001b[0m\u001b[0m\n\u001b[0;32m      5\u001b[0m \u001b[0mmean_calculator\u001b[0m\u001b[1;33m(\u001b[0m\u001b[0mdata1\u001b[0m\u001b[1;33m)\u001b[0m\u001b[1;33m\u001b[0m\u001b[0m\n\u001b[1;32m----> 6\u001b[1;33m \u001b[0mprint\u001b[0m\u001b[1;33m(\u001b[0m\u001b[0mdata_mean\u001b[0m\u001b[1;33m)\u001b[0m\u001b[1;33m\u001b[0m\u001b[0m\n\u001b[0m",
      "\u001b[1;31mNameError\u001b[0m: name 'data_mean' is not defined"
     ]
    }
   ],
   "source": [
    "import statistics\n",
    "def mean_calculator(data):\n",
    "    data_mean = statistics.mean(data)\n",
    "    \n",
    "data1 = [1, 45, 67, 8, 99.2, 60, 3.2, 12]\n",
    "mean_calculator(data1)\n",
    "print(data_mean)"
   ]
  },
  {
   "cell_type": "markdown",
   "metadata": {},
   "source": [
    "# Keyword arguments"
   ]
  },
  {
   "cell_type": "markdown",
   "metadata": {},
   "source": [
    "7) You work in a shop. Normally you do trade in pounds (£), but you do accept other currencies. Edit the function below so that it's default is to return the price in pounds but can (if instructed to do so) return the price in other currencies."
   ]
  },
  {
   "cell_type": "code",
   "execution_count": 7,
   "metadata": {},
   "outputs": [
    {
     "name": "stdout",
     "output_type": "stream",
     "text": [
      "The apple is £0.60\n"
     ]
    }
   ],
   "source": [
    "def price_printer(product, price, currency):\n",
    "    print('The {0} is {1}{2:.2f}'.format(product, currency, price))\n",
    "\n",
    "product1 = 'apple'\n",
    "price1 = 0.6\n",
    "currency1 = '£'\n",
    "price_printer(product1, price1, currency1)\n",
    "# note: the :.2f is specifying that the price should be printed to 2d.p."
   ]
  },
  {
   "cell_type": "markdown",
   "metadata": {},
   "source": [
    "8a) You have some behavioural data from a ferret doing a 2AFC task. The data consists of 50 trials for several training sessions for one ferret. Trials are 'correct', 'incorrect' or 'missed'. To decide if the ferret should proceed to the next stage of training you decide on criteria of at least 70% correct of the trials that were not missed, and no more than 5 missed trials per session. Write a function that will return 'Continue training' or 'Don't continue training' based on these criteria. Use default arguments to set the criteria."
   ]
  },
  {
   "cell_type": "code",
   "execution_count": 4,
   "metadata": {},
   "outputs": [
    {
     "ename": "AttributeError",
     "evalue": "module 'random' has no attribute 'choices'",
     "output_type": "error",
     "traceback": [
      "\u001b[0;31m---------------------------------------------------------------------------\u001b[0m",
      "\u001b[0;31mAttributeError\u001b[0m                            Traceback (most recent call last)",
      "\u001b[0;32m<ipython-input-4-48c0178c8361>\u001b[0m in \u001b[0;36m<module>\u001b[0;34m()\u001b[0m\n\u001b[1;32m     14\u001b[0m \u001b[0mperformance_ratio\u001b[0m \u001b[0;34m=\u001b[0m \u001b[0;34m[\u001b[0m\u001b[0;36m60\u001b[0m\u001b[0;34m,\u001b[0m \u001b[0;36m37\u001b[0m\u001b[0;34m,\u001b[0m \u001b[0;36m3\u001b[0m\u001b[0;34m]\u001b[0m\u001b[0;34m\u001b[0m\u001b[0m\n\u001b[1;32m     15\u001b[0m \u001b[0;34m\u001b[0m\u001b[0m\n\u001b[0;32m---> 16\u001b[0;31m \u001b[0mferret1_data\u001b[0m \u001b[0;34m=\u001b[0m \u001b[0mferret_data_generator\u001b[0m\u001b[0;34m(\u001b[0m\u001b[0msessions\u001b[0m\u001b[0;34m,\u001b[0m \u001b[0mtrials\u001b[0m\u001b[0;34m,\u001b[0m \u001b[0moutcomes\u001b[0m\u001b[0;34m,\u001b[0m \u001b[0mperformance_ratio\u001b[0m\u001b[0;34m)\u001b[0m\u001b[0;34m\u001b[0m\u001b[0m\n\u001b[0m",
      "\u001b[0;32m<ipython-input-4-48c0178c8361>\u001b[0m in \u001b[0;36mferret_data_generator\u001b[0;34m(number_sessions, number_trials, possible_outcomes, performance)\u001b[0m\n\u001b[1;32m      5\u001b[0m     \u001b[0mferret_data\u001b[0m \u001b[0;34m=\u001b[0m \u001b[0;34m[\u001b[0m\u001b[0;34m]\u001b[0m\u001b[0;34m\u001b[0m\u001b[0m\n\u001b[1;32m      6\u001b[0m     \u001b[0;32mfor\u001b[0m \u001b[0msession\u001b[0m \u001b[0;32min\u001b[0m \u001b[0mrange\u001b[0m\u001b[0;34m(\u001b[0m\u001b[0mnumber_sessions\u001b[0m\u001b[0;34m)\u001b[0m\u001b[0;34m:\u001b[0m\u001b[0;34m\u001b[0m\u001b[0m\n\u001b[0;32m----> 7\u001b[0;31m         \u001b[0mferret_data\u001b[0m\u001b[0;34m.\u001b[0m\u001b[0mappend\u001b[0m\u001b[0;34m(\u001b[0m\u001b[0mrandom\u001b[0m\u001b[0;34m.\u001b[0m\u001b[0mchoices\u001b[0m\u001b[0;34m(\u001b[0m\u001b[0mpossible_outcomes\u001b[0m\u001b[0;34m,\u001b[0m \u001b[0mweights\u001b[0m\u001b[0;34m=\u001b[0m\u001b[0mperformance\u001b[0m\u001b[0;34m,\u001b[0m \u001b[0mk\u001b[0m\u001b[0;34m=\u001b[0m\u001b[0mnumber_trials\u001b[0m\u001b[0;34m)\u001b[0m\u001b[0;34m)\u001b[0m\u001b[0;34m\u001b[0m\u001b[0m\n\u001b[0m\u001b[1;32m      8\u001b[0m     \u001b[0;32mreturn\u001b[0m \u001b[0mferret_data\u001b[0m\u001b[0;34m\u001b[0m\u001b[0m\n\u001b[1;32m      9\u001b[0m \u001b[0;34m\u001b[0m\u001b[0m\n",
      "\u001b[0;31mAttributeError\u001b[0m: module 'random' has no attribute 'choices'"
     ]
    }
   ],
   "source": [
    "import random\n",
    "\n",
    "#This is just a function that generates ferret training data. No real ferrets were used in the making this exercise.\n",
    "def ferret_data_generator(number_sessions, number_trials, possible_outcomes, performance):\n",
    "    ferret_data = []\n",
    "    for session in range(number_sessions):\n",
    "        ferret_data.append(random.choices(possible_outcomes, weights=performance, k=number_trials))\n",
    "    return ferret_data\n",
    "       \n",
    "# ferret data is a nested list of 5 sessions, each with 50 trials\n",
    "sessions = 5\n",
    "trials = 50\n",
    "outcomes = ['correct', 'incorrect', 'missed']\n",
    "performance_ratio = [60, 37, 3]\n",
    "\n",
    "ferret1_data = ferret_data_generator(sessions, trials, outcomes, performance_ratio)"
   ]
  },
  {
   "cell_type": "markdown",
   "metadata": {},
   "source": [
    "8b) Below is a very simple function. Does it do what you expected? Why does this happen? Why is this a problem? Fix it."
   ]
  },
  {
   "cell_type": "code",
   "execution_count": null,
   "metadata": {
    "collapsed": true
   },
   "outputs": [],
   "source": [
    "def observation_recorder(current_observations = [], new_value =[]):\n",
    "    current_observations += new_value\n",
    "    updated_observations = current_observations\n",
    "    return updated_observations\n",
    "initial_observations = []\n",
    "new_values = [0.2, 0.6]\n",
    "updated = cummulative_sum(current_sum = initial_observations , new_value = new_values)\n",
    "print('updated observation list:', updated)\n",
    "print('initial observation list:', initial_observations)"
   ]
  },
  {
   "cell_type": "markdown",
   "metadata": {},
   "source": [
    "# Star arguments"
   ]
  },
  {
   "cell_type": "markdown",
   "metadata": {},
   "source": [
    "9) The ferret training is going very well and now you have trained 3 ferrets. Adapt your function so that it can handle multiple input data sets (hint: star arguments may be useful here)."
   ]
  },
  {
   "cell_type": "code",
   "execution_count": 19,
   "metadata": {
    "collapsed": true
   },
   "outputs": [],
   "source": [
    "ferret2_data = ferret_data_generator(sessions, trials, outcomes, [80, 11, 9])\n",
    "ferret3_data = ferret_data_generator(sessions, trials, outcomes, [79, 1, 20])"
   ]
  },
  {
   "cell_type": "markdown",
   "metadata": {},
   "source": [
    "10) Write a function that will print the ferret ID (ferret1, ferret2, ferret3) alongside the percentage corrrect and the percentage of missed trials for each ferret. A nice way of doing this is using ** keyword arguments."
   ]
  },
  {
   "cell_type": "markdown",
   "metadata": {
    "collapsed": true
   },
   "source": [
    "# Documenting your code"
   ]
  },
  {
   "cell_type": "markdown",
   "metadata": {},
   "source": [
    "11) document the following function assuming that b is an integer"
   ]
  },
  {
   "cell_type": "code",
   "execution_count": 3,
   "metadata": {
    "collapsed": true
   },
   "outputs": [],
   "source": [
    "def a_to_the_power_b(a, b):\n",
    "    power_result = a**b\n",
    "    return power_result"
   ]
  },
  {
   "cell_type": "markdown",
   "metadata": {},
   "source": [
    "12) Try to visualise this documentation in pycharm using the quick documentation tool\n",
    "\n",
    "13) Add a test for 3^2 and 1^1 in your docstring\n",
    "\n",
    "14) If not done yet, ensure that you specified the argument and return types above"
   ]
  },
  {
   "cell_type": "markdown",
   "metadata": {
    "collapsed": true
   },
   "source": [
    "# Long exercise"
   ]
  },
  {
   "cell_type": "markdown",
   "metadata": {},
   "source": [
    "You have inherited the following code from a previous student in your lab. \n",
    "This code takes a file as input that contains the description of a neuron's morphology. Each time the user clicks a point, it adds the segment corresponding to the piece of dendrite followed using the currently set dendrite diameter as diameter of this segment. The program reads this file and computes the volume of the neuron. You would like to extend it to measure the total dendritic length but first, you have decided that to extend code, you first need to make it good. Try to make it the cleanest and most modular possible using what you have learned above.\n",
    "Hint, you may want to think about the *module* part of modular\n",
    "\n",
    "What are the benefits"
   ]
  },
  {
   "cell_type": "code",
   "execution_count": null,
   "metadata": {
    "collapsed": true
   },
   "outputs": [],
   "source": [
    "from math import *\n",
    "\n",
    "f = open('/home/bad_student/projects/neuron_a_38.txt')\n",
    "data = f.read()\n",
    "f.close()\n",
    "\n",
    "volume = 0\n",
    "for i in range(1, len(data)-1):\n",
    "    line1 = data[i]\n",
    "    line2 = data[i+1]\n",
    "    data_line1 = line1[:-1].split(',')\n",
    "    p1 = data_line1[1:4]\n",
    "    data_line2 = line2[:-1].split(',')\n",
    "    p2 = data_line2[1:4]\n",
    "    volume = volume + (data_line2[0]/2.0 * pi * (sqrt((p2[0] - p1[0])**2 + (p2[1] - p1[1])**2 + (p2[2] - p1[2])**2)))\n",
    "print(volume)"
   ]
  }
 ],
 "metadata": {
  "kernelspec": {
   "display_name": "Python 3",
   "language": "python",
   "name": "python3"
  },
  "language_info": {
   "codemirror_mode": {
    "name": "ipython",
    "version": 3
   },
   "file_extension": ".py",
   "mimetype": "text/x-python",
   "name": "python",
   "nbconvert_exporter": "python",
   "pygments_lexer": "ipython3",
   "version": "3.6.3"
  }
 },
 "nbformat": 4,
 "nbformat_minor": 2
}
