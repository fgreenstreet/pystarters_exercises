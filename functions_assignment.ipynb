{
 "cells": [
  {
   "cell_type": "markdown",
   "metadata": {},
   "source": [
    "# The need for functions\n"
   ]
  },
  {
   "cell_type": "markdown",
   "metadata": {},
   "source": [
    "This code will take a set of observations and find the mean, median, variance and standard deviation of data set 1"
   ]
  },
  {
   "cell_type": "code",
   "execution_count": null,
   "metadata": {
    "collapsed": true
   },
   "outputs": [],
   "source": [
    "import statistics\n",
    "data1 = [1, 45, 67, 8, 99.2, 60, 3.2, 12]\n",
    "mean_data = statistics.mean(data1)\n",
    "med_data = statistics.median(data1)\n",
    "var_data = statistics.variance(data)\n",
    "std_data = statistics.stdev(data1)\n",
    "\n",
    "data2 = [56, 78, 55, 12, 1.3, 99.6, 200.5]\n",
    "data3 = [1, 1, 1, 5, 77, 1.2, 4, 2.6]"
   ]
  },
  {
   "cell_type": "markdown",
   "metadata": {},
   "source": [
    "1) Find the mean, median, variance and standard deviation of data sets 2 and 3.\n",
    "\n",
    "2) If you didn't use a function to do this, attempt it using a function. How many lines of code did you save?"
   ]
  },
  {
   "cell_type": "markdown",
   "metadata": {},
   "source": [
    "# Procedures vs functions "
   ]
  },
  {
   "cell_type": "markdown",
   "metadata": {},
   "source": [
    "4) Edit the code below so that things_to_print is returned by the function and assign the returned value to a variable."
   ]
  },
  {
   "cell_type": "code",
   "execution_count": null,
   "metadata": {
    "collapsed": true
   },
   "outputs": [],
   "source": [
    "def I_print_things(things_to_print):\n",
    "    print(things_to_print)\n",
    "    \n",
    "print_job = 'This is a silly example function'\n",
    "I_print_things(print_job)"
   ]
  },
  {
   "cell_type": "markdown",
   "metadata": {},
   "source": [
    "5) Write a function that will take two input strings and returns them joined together as one string"
   ]
  },
  {
   "cell_type": "markdown",
   "metadata": {},
   "source": [
    "# Scope (local vs global variables)"
   ]
  },
  {
   "cell_type": "markdown",
   "metadata": {},
   "source": [
    "6) Why does the following code produce an error? Edit the code so that it prints the correct value for data_mean."
   ]
  },
  {
   "cell_type": "code",
   "execution_count": 1,
   "metadata": {},
   "outputs": [
    {
     "ename": "NameError",
     "evalue": "name 'data_mean' is not defined",
     "output_type": "error",
     "traceback": [
      "\u001b[1;31m---------------------------------------------------------------------------\u001b[0m",
      "\u001b[1;31mNameError\u001b[0m                                 Traceback (most recent call last)",
      "\u001b[1;32m<ipython-input-1-08a75d46e437>\u001b[0m in \u001b[0;36m<module>\u001b[1;34m()\u001b[0m\n\u001b[0;32m      4\u001b[0m \u001b[0mdata1\u001b[0m \u001b[1;33m=\u001b[0m \u001b[1;33m[\u001b[0m\u001b[1;36m1\u001b[0m\u001b[1;33m,\u001b[0m \u001b[1;36m45\u001b[0m\u001b[1;33m,\u001b[0m \u001b[1;36m67\u001b[0m\u001b[1;33m,\u001b[0m \u001b[1;36m8\u001b[0m\u001b[1;33m,\u001b[0m \u001b[1;36m99.2\u001b[0m\u001b[1;33m,\u001b[0m \u001b[1;36m60\u001b[0m\u001b[1;33m,\u001b[0m \u001b[1;36m3.2\u001b[0m\u001b[1;33m,\u001b[0m \u001b[1;36m12\u001b[0m\u001b[1;33m]\u001b[0m\u001b[1;33m\u001b[0m\u001b[0m\n\u001b[0;32m      5\u001b[0m \u001b[0mmean_calculator\u001b[0m\u001b[1;33m(\u001b[0m\u001b[0mdata1\u001b[0m\u001b[1;33m)\u001b[0m\u001b[1;33m\u001b[0m\u001b[0m\n\u001b[1;32m----> 6\u001b[1;33m \u001b[0mprint\u001b[0m\u001b[1;33m(\u001b[0m\u001b[0mdata_mean\u001b[0m\u001b[1;33m)\u001b[0m\u001b[1;33m\u001b[0m\u001b[0m\n\u001b[0m",
      "\u001b[1;31mNameError\u001b[0m: name 'data_mean' is not defined"
     ]
    }
   ],
   "source": [
    "import statistics\n",
    "def mean_calculator(data):\n",
    "    data_mean = statistics.mean(data)\n",
    "    \n",
    "data1 = [1, 45, 67, 8, 99.2, 60, 3.2, 12]\n",
    "mean_calculator(data1)\n",
    "print(data_mean)"
   ]
  },
  {
   "cell_type": "markdown",
   "metadata": {},
   "source": [
    "# Keyword arguments"
   ]
  },
  {
   "cell_type": "markdown",
   "metadata": {},
   "source": [
    "7) You work in a shop. Normally you do trade in pounds (£), but you do accept other currencies. Edit the function below so that it's default is to return the price in pounds but can (if instructed to do so) return the price in other currencies."
   ]
  },
  {
   "cell_type": "code",
   "execution_count": 7,
   "metadata": {},
   "outputs": [
    {
     "name": "stdout",
     "output_type": "stream",
     "text": [
      "The apple is £0.60\n"
     ]
    }
   ],
   "source": [
    "def price_printer(product, price, currency):\n",
    "    print('The {0} is {1}{2:.2f}'.format(product, currency, price))\n",
    "\n",
    "product1 = 'apple'\n",
    "price1 = 0.6\n",
    "currency1 = '£'\n",
    "price_printer(product1, price1, currency1)\n",
    "# note: the :.2f is specifying that the price should be printed to 2d.p."
   ]
  },
  {
   "cell_type": "markdown",
   "metadata": {},
   "source": [
    "8) You have some behavioural data from a ferret doing a 2AFC task. The data consists of 50 trials for several training sessions for one ferret. Trials are 'correct', 'incorrect' or 'missed'. To decide if the ferret should proceed to the next stage of training you decide on criteria of at least 70% correct of the trials that were not missed, and no more than 5 missed trials per session. Write a function that will return 'Continue training' or 'Don't continue training' based on these criteria. Use default arguments to set the criteria."
   ]
  },
  {
   "cell_type": "code",
   "execution_count": 10,
   "metadata": {
    "collapsed": true
   },
   "outputs": [],
   "source": [
    "import random\n",
    "\n",
    "#This is just a function that generates ferret training data. No real ferrets were used in the making this exercise.\n",
    "def ferret_data_generator(number_sessions, number_trials, possible_outcomes, performance):\n",
    "    ferret_data = []\n",
    "    for session in range(0, number_sessions):\n",
    "        ferret_data.append(random.choices(possible_outcomes, weights=performance, k=number_trials))\n",
    "    return ferret_data\n",
    "       \n",
    "# ferret data is a nested list of 5 sessions, each with 50 trials\n",
    "sessions = 5\n",
    "trials = 50\n",
    "outcomes = ['correct','incorrect','missed']\n",
    "performance_ratio = [60, 37, 3]\n",
    "\n",
    "ferret1_data = ferret_data_generator(sessions, trials, outcomes, performance_ratio)"
   ]
  },
  {
   "cell_type": "markdown",
   "metadata": {},
   "source": [
    "# Star arguments"
   ]
  },
  {
   "cell_type": "markdown",
   "metadata": {},
   "source": [
    "9) The ferret training is going very well and now you have trained 3 ferrets. Adapt your function so that it can handle multiple input data sets (hint: star arguments may be useful here)."
   ]
  },
  {
   "cell_type": "code",
   "execution_count": 19,
   "metadata": {
    "collapsed": true
   },
   "outputs": [],
   "source": [
    "ferret2_data = ferret_data_generator(sessions, trials, outcomes, [80, 11, 9])\n",
    "ferret3_data = ferret_data_generator(sessions, trials, outcomes, [79, 1, 20])"
   ]
  },
  {
   "cell_type": "markdown",
   "metadata": {},
   "source": [
    "10) Write a function that will print the ferret ID (ferret1, ferret2, ferret3) alongside the percentage corrrect and the percentage of missed trials for each ferret. A nice way of doing this is using ** keyword arguments."
   ]
  },
  {
   "cell_type": "markdown",
   "metadata": {
    "collapsed": true
   },
   "source": [
    "# Documenting your code"
   ]
  },
  {
   "cell_type": "markdown",
   "metadata": {},
   "source": [
    "11) document the following function assuming that b is an integer"
   ]
  },
  {
   "cell_type": "markdown",
   "metadata": {},
   "source": [
    "def a_to_the_power_b(a, b):\n",
    "    power_result = a**b\n",
    "    return power_result"
   ]
  },
  {
   "cell_type": "markdown",
   "metadata": {},
   "source": [
    "12) Try to visualise this documentation in pycharm using the quick documentation tool\n",
    "\n",
    "13) Add a test for 3^2 and 1^1 in your docstring\n",
    "\n",
    "14) If not done yet, ensure that you specified the argument and return types above"
   ]
  },
  {
   "cell_type": "code",
   "execution_count": null,
   "metadata": {
    "collapsed": true
   },
   "outputs": [],
   "source": []
  }
 ],
 "metadata": {
  "kernelspec": {
   "display_name": "Python 3",
   "language": "python",
   "name": "python3"
  },
  "language_info": {
   "codemirror_mode": {
    "name": "ipython",
    "version": 3
   },
   "file_extension": ".py",
   "mimetype": "text/x-python",
   "name": "python",
   "nbconvert_exporter": "python",
   "pygments_lexer": "ipython3",
   "version": "3.5.2"
  }
 },
 "nbformat": 4,
 "nbformat_minor": 2
}
